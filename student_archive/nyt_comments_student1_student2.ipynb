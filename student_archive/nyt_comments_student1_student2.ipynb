{
 "cells": [
  {
   "cell_type": "markdown",
   "metadata": {},
   "source": [
    "# NYT Comment Analysis\n",
    "* Build csv file of comments from NYT articles:\n",
    "    * Read raw bytes object from NYT API\n",
    "    * Convert to json object(s)\n",
    "    * Extract data to csv format"
   ]
  },
  {
   "cell_type": "code",
   "execution_count": null,
   "metadata": {},
   "outputs": [],
   "source": [
    "# Modules\n",
    "from sklearn.feature_extraction.text import TfidfVectorizer, CountVectorizer\n",
    "import pandas as pd\n",
    "import json\n",
    "import math\n",
    "import numpy as np\n",
    "import scipy as sp\n",
    "from scipy import stats\n",
    "from scipy.stats import pearsonr\n",
    "\n",
    "%matplotlib inline\n",
    "import matplotlib.pyplot as plt\n",
    "import matplotlib.colors as col\n",
    "import matplotlib.cm as cm\n",
    "import seaborn as sns; sns.set()\n",
    "from datetime import datetime\n",
    "\n",
    "from collections import Counter\n",
    "from bs4 import BeautifulSoup as soup\n",
    "import requests as r\n",
    "import urllib3\n",
    "import zipfile\n",
    "import re\n",
    "import glob\n",
    "import os\n",
    "import time\n",
    "from urllib.request import urlopen\n",
    "\n",
    "# Pandas view options\n",
    "pd.set_option('display.max_columns', 100)\n",
    "pd.set_option('display.max_rows', 200)\n",
    "pd.set_option('precision', 4)\n",
    "\n",
    "#Set PATH:\n",
    "#PATH = ***"
   ]
  },
  {
   "cell_type": "markdown",
   "metadata": {},
   "source": [
    "## Read Data"
   ]
  },
  {
   "cell_type": "code",
   "execution_count": null,
   "metadata": {},
   "outputs": [],
   "source": [
    "# URL for data file\n",
    "\n",
    "#Creating the columns and empty CSV files where data will be stored\n",
    "comment_cols = ([\"commentID\",\"status\",\"commentSequence\",\"userID\",\"userDisplayName\",\"userLocation\",\"userTitle\",\"userURL\",\"picURL\",\"commentTitle\",\"commentBody\",\"createDate\",\"updateDate\",\"approveDate\",\"recommendations\",\"replyCount\",\"replies\",\"editorsSelection\",\"parentID\",\"parentUserDisplayName\",\"depth\",\"commentType\",\"trusted\",\"recommendedFlag\",\"permID\",\"isAnonymous\"])\n",
    "comment_csv = []\n",
    "\n",
    "#List of articles from which to pull comments\n",
    "article_list = [\"https://www.nytimes.com/2019/05/22/opinion/health-care-privacy-hipaa.html?rref=collection%2Fseriescollection%2Fnew-york-times-privacy-project\",\"https://www.nytimes.com/2019/04/10/opinion/insurance-ai.html?rref=collection%2Fseriescollection%2Fnew-york-times-privacy-project\"]\n",
    "\n",
    "#Pulling comments from articles and saving in comment_cols\n",
    "for i in range(len(article_list)):\n",
    "    #defining the URL dependent on the URLs coming from the NYT articles themselves\n",
    "    theURL = str(\"https://api.nytimes.com/svc/community/v3/user-content/url.json?api-key=REDACTED&offset=0&url=\" +article_list[i])\n",
    "    pageSource = urlopen(theURL).read() #byte type\n",
    "    s_page = pageSource.decode() #as string\n",
    "    #num_comments = int(s_page[s_page.find(\"totalParentCommentsFound\")+26:s_page.find(\"totalParentCommentsFound\")+29])#will only work with a number in the 100s\n",
    "    num_comments= int(s_page[s_page.find(\"totalCommentsFound\")+20:s_page.find(\"totalCommentsFound\")+23])#will only work with a number in the 100s\n",
    "    time.sleep(6)\n",
    "    for f in range(0,num_comments//25):\n",
    "        print(len(comment_csv))\n",
    "        theURLoff=str(\"https://api.nytimes.com/svc/community/v3/user-content/url.json?api-key=REDACTED&offset=\"+str(f*25)+\"&url=\" +article_list[i])\n",
    "        commSource=urlopen(theURLoff).read()\n",
    "        c_page = commSource.decode()\n",
    "        c_page = \"[\"+c_page[208:c_page.find(',\"depthLimit')] #cutting away the non-comment pieces\n",
    "        data = json.loads(c_page)\n",
    "        time.sleep(6)\n",
    "        for comment in data:\n",
    "            comment_temp=[]\n",
    "            reply_temp=[]\n",
    "            # Build comments csv\n",
    "            for key in comment_cols:\n",
    "                comment_temp.append(comment[key])\n",
    "            comment_csv.append(comment_temp)\n",
    "    \n",
    "            #Add replies to comments csv if replies exist\n",
    "            if comment['replyCount'] != 0:\n",
    "            #for j in range(comment[\"replyCount\"]):  #Trying to figure out how to get beyond the 1st reply\n",
    "                for key in comment_cols:\n",
    "                    reply_temp.append(comment['replies'][0][key])\n",
    "                comment_csv.append(reply_temp)\n",
    "                #if comment['replyCount'] >1:\n",
    "                   # for key in comment_cols:\n",
    "                   #     reply_temp.append(comment['replies'][1][key])\n",
    "                   # comment_csv.append(comment_temp)\n",
    "    \n",
    "                   \n",
    "comment_df = pd.DataFrame(comment_csv, columns=comment_cols)\n"
   ]
  },
  {
   "cell_type": "code",
   "execution_count": null,
   "metadata": {},
   "outputs": [],
   "source": [
    "#Adding article_id column\n",
    "#article_ids = np.zeros(len(comments_df))\n",
    "#for i in range(200,len(article_ids)):\n",
    "#    article_ids[i] = 1\n",
    "    \n",
    "    \n",
    "#comment_df['articleIds'] = article_ids"
   ]
  },
  {
   "cell_type": "code",
   "execution_count": null,
   "metadata": {},
   "outputs": [],
   "source": [
    "#Playground for troubleshooting the loop\n",
    "\n",
    "# comment_cols = ([\"commentID\",\"status\",\"commentSequence\",\"userID\",\"userDisplayName\",\"userLocation\",\"userTitle\",\"userURL\",\"picURL\",\"commentTitle\",\"commentBody\",\"createDate\",\"updateDate\",\"approveDate\",\"recommendations\",\"replyCount\",\"replies\",\"editorsSelection\",\"parentID\",\"parentUserDisplayName\",\"depth\",\"commentType\",\"trusted\",\"recommendedFlag\",\"permID\",\"isAnonymous\"])\n",
    "# comment_csv = []\n",
    "\n",
    "# reply_cols = ([\"commentID\",\"status\",\"commentSequence\",\"userID\",\"userDisplayName\",\"userLocation\",\"userTitle\",\"userURL\",\"picURL\",\"commentTitle\",\"commentBody\",\"createDate\",\"updateDate\",\"approveDate\",\"recommendations\",\"replyCount\",\"replies\",\"editorsSelection\",\"parentID\",\"parentUserDisplayName\",\"depth\",\"commentType\",\"trusted\",\"recommendedFlag\",\"permID\",\"isAnonymous\"])\n",
    "# reply_csv = []\n",
    "\n",
    "# article_list = [\"https://www.nytimes.com/2019/05/22/opinion/health-care-privacy-hipaa.html?rref=collection%2Fseriescollection%2Fnew-york-times-privacy-project\",\"https://www.nytimes.com/2019/04/10/opinion/insurance-ai.html?rref=collection%2Fseriescollection%2Fnew-york-times-privacy-project\"]\n",
    "\n",
    "# #for i in range(len(article_list)):\n",
    "#     #defining the URL dependent on the URLs coming from the NYT articles themselves\n",
    "# theURL = str(\"https://api.nytimes.com/svc/community/v3/user-content/url.json?api-key=REDACTED&offset=0&url=\" +article_list[1])\n",
    "# pageSource = urlopen(theURL).read() #byte type\n",
    "# s_page = pageSource.decode() #as string\n",
    "# num_comments = int(s_page[s_page.find(\"totalCommentsFound\")+20:s_page.find(\"totalCommentsFound\")+23]) #will only work with a number in the 100s\n",
    "    \n",
    "\n",
    "#     for f in range(0,num_comments//25):\n",
    "#         theURLoff=str(\"https://api.nytimes.com/svc/community/v3/user-content/url.json?api-key=REDACTED&offset=\"+str(f*25)+\"&url=\" +article_list[i])\n",
    "#         commSource=urlopen(theURLoff).read()\n",
    "#         c_page = commSource.decode()\n",
    "#         c_page = \"[\"+c_page[208:c_page.find(',\"depthLimit')] #cutting away the non-comment pieces\n",
    "#         data = json.loads(c_page)\n",
    "        \n",
    "#         for comment in data:\n",
    "#             comment_temp=[]\n",
    "#             reply_temp=[]\n",
    "#             # Build comments csv\n",
    "#             for key in comment_cols:\n",
    "#                 comment_temp.append(comment[key])\n",
    "#             comment_csv.append(comment_temp)\n",
    "    \n",
    "#             #Build reply csv if replys exist\n",
    "#                if comment['replyCount'] != 0:\n",
    "#                  for key in reply_cols:\n",
    "#                     reply_temp.append(comment['replies'][0][key])\n",
    "#                 reply_csv.append(reply_temp)\n",
    "        \n",
    "# comments_df = pd.DataFrame(comment_csv, columns=comment_cols)\n",
    "# #reply_df = pd.DataFrame(reply_csv, columns=reply_cols)\n",
    "\n",
    "# comments_df.head()\n",
    "\n",
    "\n",
    "\n",
    "\n",
    "\n",
    "\n"
   ]
  },
  {
   "cell_type": "code",
   "execution_count": null,
   "metadata": {},
   "outputs": [],
   "source": [
    "# Save csv\n",
    "#comments_df.to_csv(PATH + 'comments.csv')"
   ]
  },
  {
   "cell_type": "markdown",
   "metadata": {},
   "source": [
    "## Analyze Data"
   ]
  },
  {
   "cell_type": "code",
   "execution_count": null,
   "metadata": {},
   "outputs": [],
   "source": [
    "comments_df.head(20)"
   ]
  },
  {
   "cell_type": "code",
   "execution_count": null,
   "metadata": {},
   "outputs": [],
   "source": [
    "comments_df.describe()"
   ]
  },
  {
   "cell_type": "code",
   "execution_count": null,
   "metadata": {},
   "outputs": [],
   "source": []
  },
  {
   "cell_type": "code",
   "execution_count": null,
   "metadata": {},
   "outputs": [],
   "source": []
  },
  {
   "cell_type": "code",
   "execution_count": null,
   "metadata": {},
   "outputs": [],
   "source": []
  },
  {
   "cell_type": "code",
   "execution_count": null,
   "metadata": {},
   "outputs": [],
   "source": []
  },
  {
   "cell_type": "code",
   "execution_count": null,
   "metadata": {},
   "outputs": [],
   "source": []
  },
  {
   "cell_type": "code",
   "execution_count": null,
   "metadata": {},
   "outputs": [],
   "source": []
  },
  {
   "cell_type": "code",
   "execution_count": null,
   "metadata": {},
   "outputs": [],
   "source": []
  }
 ],
 "metadata": {
  "kernelspec": {
   "display_name": "Python [conda env:base] *",
   "language": "python",
   "name": "conda-base-py"
  },
  "language_info": {
   "codemirror_mode": {
    "name": "ipython",
    "version": 3
   },
   "file_extension": ".py",
   "mimetype": "text/x-python",
   "name": "python",
   "nbconvert_exporter": "python",
   "pygments_lexer": "ipython3",
   "version": "3.11.8"
  }
 },
 "nbformat": 4,
 "nbformat_minor": 4
}
